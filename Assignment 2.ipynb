{
 "cells": [
  {
   "cell_type": "code",
   "execution_count": 17,
   "metadata": {},
   "outputs": [
    {
     "name": "stdout",
     "output_type": "stream",
     "text": [
      "Welcome to password generator\n",
      "\n",
      "Enter the length of password: 8\n",
      "\n",
      "How many letters should the password contain: 4\n",
      "\n",
      "How many digits should the password contain: 1\n",
      "I?qsII?s\n"
     ]
    }
   ],
   "source": [
    "import random\n",
    "import string\n",
    "\n",
    "print('Welcome to password generator')\n",
    "length = int(input('\\nEnter the length of password: '))\n",
    "if length < 6:\n",
    "    int(input('\\tToo short: password should be a minimum of 6 characters: '))\n",
    "letters = int(input('\\nHow many letters should the password contain: '))\n",
    "number = int(input('\\nHow many digits should the password contain: '))\n",
    "symbols = int(length - (letters + number))\n",
    "alphabets = [random.choice(string.ascii_letters) for i in range (letters)]\n",
    "num = [random.choice(string.digits) for i in range (number)]\n",
    "sym = [random.choice(string.punctuation) for i in range (symbols)]\n",
    "\n",
    "password = ''.join(alphabets + num + sym)\n",
    "password = ''.join(random.choice(password) for i in range (length))\n",
    "print(password)"
   ]
  },
  {
   "cell_type": "code",
   "execution_count": null,
   "metadata": {},
   "outputs": [],
   "source": []
  },
  {
   "cell_type": "code",
   "execution_count": null,
   "metadata": {},
   "outputs": [],
   "source": []
  }
 ],
 "metadata": {
  "kernelspec": {
   "display_name": "Python 3",
   "language": "python",
   "name": "python3"
  },
  "language_info": {
   "codemirror_mode": {
    "name": "ipython",
    "version": 3
   },
   "file_extension": ".py",
   "mimetype": "text/x-python",
   "name": "python",
   "nbconvert_exporter": "python",
   "pygments_lexer": "ipython3",
   "version": "3.7.6"
  }
 },
 "nbformat": 4,
 "nbformat_minor": 4
}
