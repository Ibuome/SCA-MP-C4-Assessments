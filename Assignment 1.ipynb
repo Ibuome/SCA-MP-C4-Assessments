{
 "cells": [
  {
   "cell_type": "code",
   "execution_count": 12,
   "metadata": {},
   "outputs": [
    {
     "name": "stdout",
     "output_type": "stream",
     "text": [
      "\tHello dear! In this game, I am guessing a number between 1 and 20 and you are to predict which number it is\n",
      "\tP.S: You have only 5 chances to guess the number\n",
      "Guess a number:- 5\n",
      "Your guess is too low\n",
      "\n",
      "Guess a number:- 6\n",
      "Your guess is too low\n",
      "\n",
      "Guess a number:- 10\n",
      "Your guess is too low\n",
      "\n",
      "Guess a number:- 11\n",
      "\tYipee!! that's correct.\n",
      "\tYou guessed the number in 4 tries\n"
     ]
    }
   ],
   "source": [
    "import random\n",
    "number = random.randint(1,20)\n",
    "\n",
    "print('\\tHello dear! In this game, I am guessing a number between 1 and 20 and you are to predict which number it is\\n\\tP.S: You have only 5 chances to guess the number')\n",
    "\n",
    "number_of_guesses = 0\n",
    "while number_of_guesses < 5:\n",
    "    guess = int(input(\"Guess a number:- \"))\n",
    "    number_of_guesses += 1\n",
    "    if guess < number:\n",
    "        print('Your guess is too low\\n')\n",
    "    if guess > number:\n",
    "        print('Your guess is too high\\n')\n",
    "    if guess == number:\n",
    "        break\n",
    "if guess == number:\n",
    "    print(\"\\tYipee!! that's correct.\\n\\tYou guessed the number in {} tries\".format(number_of_guesses))\n",
    "else:\n",
    "    print('You did not guess the number, The number was {} '.format(number))"
   ]
  },
  {
   "cell_type": "code",
   "execution_count": null,
   "metadata": {},
   "outputs": [],
   "source": []
  }
 ],
 "metadata": {
  "kernelspec": {
   "display_name": "Python 3",
   "language": "python",
   "name": "python3"
  },
  "language_info": {
   "codemirror_mode": {
    "name": "ipython",
    "version": 3
   },
   "file_extension": ".py",
   "mimetype": "text/x-python",
   "name": "python",
   "nbconvert_exporter": "python",
   "pygments_lexer": "ipython3",
   "version": "3.7.6"
  }
 },
 "nbformat": 4,
 "nbformat_minor": 4
}
